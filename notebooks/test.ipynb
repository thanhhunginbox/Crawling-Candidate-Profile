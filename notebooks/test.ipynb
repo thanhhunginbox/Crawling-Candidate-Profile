{
 "cells": [
  {
   "cell_type": "code",
   "execution_count": 75,
   "metadata": {},
   "outputs": [
    {
     "name": "stdout",
     "output_type": "stream",
     "text": [
      "https://linkedin.com/in/ht-lm-and-python-devi-01668a293\n"
     ]
    }
   ],
   "source": [
    "from selenium import webdriver\n",
    "from bs4 import BeautifulSoup\n",
    "from selenium.webdriver.common.by import By\n",
    "from selenium.webdriver.common.keys import Keys\n",
    "from selenium.webdriver.support.wait import WebDriverWait\n",
    "from selenium.webdriver.support import expected_conditions as EC\n",
    "import os\n",
    "from urls_crawler import scroll_down\n",
    "from dotenv import find_dotenv, load_dotenv\n",
    "_ = load_dotenv(find_dotenv())"
   ]
  },
  {
   "cell_type": "code",
   "execution_count": 76,
   "metadata": {},
   "outputs": [],
   "source": [
    "email = os.getenv('LINKEDIN_EMAIL')\n",
    "password = os.getenv('LINKEDIN_PASSWORD')"
   ]
  },
  {
   "cell_type": "code",
   "execution_count": 77,
   "metadata": {},
   "outputs": [],
   "source": [
    "driver = webdriver.Chrome()"
   ]
  },
  {
   "cell_type": "code",
   "execution_count": 78,
   "metadata": {},
   "outputs": [],
   "source": [
    "driver.get('https://www.linkedin.com/')"
   ]
  },
  {
   "cell_type": "code",
   "execution_count": 79,
   "metadata": {},
   "outputs": [],
   "source": [
    "email_box_xpath = \"//input[@id='session_key']\"\n",
    "email_box = driver.find_element(By.XPATH, email_box_xpath)\n",
    "email_box.send_keys(email)\n",
    "\n",
    "password_box_xpath = \"//input[@id='session_password']\"\n",
    "password_box = driver.find_element(By.XPATH, password_box_xpath)\n",
    "password_box.send_keys(password)\n",
    "password_box.send_keys(Keys.ENTER)"
   ]
  },
  {
   "cell_type": "code",
   "execution_count": 80,
   "metadata": {},
   "outputs": [],
   "source": [
    "driver.maximize_window()"
   ]
  },
  {
   "cell_type": "code",
   "execution_count": 86,
   "metadata": {},
   "outputs": [],
   "source": [
    "driver.get(\"https://www.linkedin.com/in/phuc-nguyen-pn/\")"
   ]
  },
  {
   "cell_type": "code",
   "execution_count": 87,
   "metadata": {},
   "outputs": [],
   "source": [
    "user_name_xpath = \"/html/body/div[5]/div[3]/div/div/div[2]/div/div/main/section[1]/div[2]/div[2]/div[1]/div[1]/span[1]\"\n",
    "user_name = driver.find_element(By.XPATH, user_name_xpath).text"
   ]
  },
  {
   "cell_type": "code",
   "execution_count": 88,
   "metadata": {},
   "outputs": [],
   "source": [
    "headline_xpath = \"/html/body/div[5]/div[3]/div/div/div[2]/div/div/main/section[1]/div[2]/div[2]/div[1]/div[2]\"\n",
    "headline = driver.find_element(By.XPATH, headline_xpath).text"
   ]
  },
  {
   "cell_type": "code",
   "execution_count": 89,
   "metadata": {},
   "outputs": [],
   "source": [
    "location_xpath = \"/html/body/div[5]/div[3]/div/div/div[2]/div/div/main/section[1]/div[2]/div[2]/div[2]/span[1]\"\n",
    "location = driver.find_element(By.XPATH, location_xpath).text"
   ]
  },
  {
   "cell_type": "code",
   "execution_count": 13,
   "metadata": {},
   "outputs": [],
   "source": [
    "main_xpath = \"/html/body/div[5]/div[3]/div/div/div[2]/div/div/main\"\n",
    "main = driver.find_element(By.XPATH, main_xpath)"
   ]
  },
  {
   "cell_type": "code",
   "execution_count": 90,
   "metadata": {},
   "outputs": [
    {
     "name": "stdout",
     "output_type": "stream",
     "text": [
      "Hong Phuc Nguyen Tran Data Engineer Ho Chi Minh City, Vietnam\n"
     ]
    }
   ],
   "source": [
    "print(user_name, headline, location)"
   ]
  },
  {
   "cell_type": "code",
   "execution_count": 91,
   "metadata": {},
   "outputs": [],
   "source": [
    "contact_info_xpath = \"/html/body/div[5]/div[3]/div/div/div[2]/div/div/main/section[1]/div[2]/div[2]/div[2]/span[2]/a\"\n",
    "contact_info =  driver.find_element(By.XPATH, contact_info_xpath)"
   ]
  },
  {
   "cell_type": "code",
   "execution_count": 92,
   "metadata": {},
   "outputs": [],
   "source": [
    "contact_info.click()"
   ]
  },
  {
   "cell_type": "code",
   "execution_count": 93,
   "metadata": {},
   "outputs": [],
   "source": [
    "info_section_xpath = \"/html/body/div[3]/div/div/div[2]/section/div\"\n",
    "info_section = driver.find_element(By.XPATH, info_section_xpath)"
   ]
  },
  {
   "cell_type": "code",
   "execution_count": 94,
   "metadata": {},
   "outputs": [],
   "source": [
    "data = info_section.text.split(\"\\n\")"
   ]
  },
  {
   "cell_type": "code",
   "execution_count": 96,
   "metadata": {},
   "outputs": [],
   "source": [
    "keys = data[::2]\n",
    "values = data[1::2]"
   ]
  },
  {
   "cell_type": "code",
   "execution_count": 97,
   "metadata": {},
   "outputs": [],
   "source": [
    "info_data = {}\n",
    "for k, v in zip(keys, values):\n",
    "    info_data[k] = v"
   ]
  },
  {
   "cell_type": "code",
   "execution_count": 99,
   "metadata": {},
   "outputs": [],
   "source": [
    "close_button_xpath = \"/html/body/div[3]/div/div/button\"\n",
    "close_button = driver.find_element(By.XPATH, close_button_xpath)\n",
    "close_button.click()"
   ]
  },
  {
   "cell_type": "code",
   "execution_count": 100,
   "metadata": {},
   "outputs": [],
   "source": [
    "about_xpath = \"/html/body/div[5]/div[3]/div/div/div[2]/div/div/main/section[2]\"\n",
    "about = driver.find_element(By.XPATH, about_xpath)"
   ]
  },
  {
   "cell_type": "code",
   "execution_count": 101,
   "metadata": {},
   "outputs": [
    {
     "data": {
      "text/plain": [
       "'About\\nAbout\\nMotivated and detail-oriented junior Data Engineer with a strong foundation in Big Data. Seeking an entry-level position where I can apply my technical skills and gain hands-on experience in designing, developing, and maintaining data pipelines, data warehouses, and ETL processes. Dedicated to learning and growing within a dynamic team to drive informed business decisions.\\n…see more'"
      ]
     },
     "execution_count": 101,
     "metadata": {},
     "output_type": "execute_result"
    }
   ],
   "source": [
    "about.text"
   ]
  },
  {
   "cell_type": "code",
   "execution_count": 51,
   "metadata": {},
   "outputs": [],
   "source": [
    "driver.get(\"https://www.linkedin.com/in/nghi-nora-phung/\" + \"details/skills\")"
   ]
  },
  {
   "cell_type": "code",
   "execution_count": 52,
   "metadata": {},
   "outputs": [],
   "source": [
    "scroll_down(driver, 5)"
   ]
  },
  {
   "cell_type": "code",
   "execution_count": 53,
   "metadata": {},
   "outputs": [],
   "source": [
    "ul_xpath = \"/html/body/div[5]/div[3]/div/div/div[2]/div/div/main/section/div[2]/div[2]/div/div/div[1]/ul\"\n",
    "ul = driver.find_element(By.XPATH, ul_xpath)"
   ]
  },
  {
   "cell_type": "code",
   "execution_count": 79,
   "metadata": {},
   "outputs": [],
   "source": [
    "a_tags = ul.find_elements(By.XPATH, \"//a[@data-field='skill_page_skill_topic']\")"
   ]
  },
  {
   "cell_type": "code",
   "execution_count": 76,
   "metadata": {},
   "outputs": [],
   "source": [
    "a_tags = ul.find_elements(By.XPATH, \"//span[@aria-hidden='true']\")"
   ]
  },
  {
   "cell_type": "code",
   "execution_count": 83,
   "metadata": {},
   "outputs": [],
   "source": [
    "for a in a_tags:\n",
    "    t = a.text"
   ]
  },
  {
   "cell_type": "code",
   "execution_count": null,
   "metadata": {},
   "outputs": [],
   "source": []
  },
  {
   "cell_type": "code",
   "execution_count": 30,
   "metadata": {},
   "outputs": [],
   "source": [
    "# sections = main.find_elements(By.TAG_NAME, 'section')"
   ]
  },
  {
   "cell_type": "code",
   "execution_count": 31,
   "metadata": {},
   "outputs": [
    {
     "data": {
      "text/plain": [
       "''"
      ]
     },
     "execution_count": 31,
     "metadata": {},
     "output_type": "execute_result"
    }
   ],
   "source": [
    "# sections[3].text"
   ]
  },
  {
   "cell_type": "code",
   "execution_count": 32,
   "metadata": {},
   "outputs": [],
   "source": [
    "# def parse_experience(experience_sections):\n",
    "#     list_experience = experience_sections.find_elements(By.TAG_NAME, 'li')\n",
    "#     experiences = []\n",
    "#     for p in list_experience:\n",
    "#         company_url = company_name_working_type = job_title = duration = location = None\n",
    "        \n",
    "#         try:\n",
    "#             html = p.get_attribute('outerHTML')\n",
    "#             soup = BeautifulSoup(html, 'html.parser')\n",
    "            \n",
    "#             company_url = soup.find('div').findChild('a', recursive=True).get('href')\n",
    "#             sub_positions = soup.find('div').findChildren('div', recursive=False)[1].findChildren(recursive=False)\n",
    "\n",
    "#             if len(sub_positions) == 1:\n",
    "#                 job_title = sub_positions[0].findChild('div', recursive=False).findChild('div', recursive=False).find('span').text\n",
    "#                 position_info = sub_positions[0].findChild('div', recursive=False).findChildren('span', recursive=False)\n",
    "#                 company_name_working_type = position_info[0].findChild('span').text\n",
    "#                 duration = position_info[1].findChild('span').text\n",
    "#                 location = position_info[2].findChild('span').text\n",
    "\n",
    "\n",
    "#             info_dict = {\n",
    "#                 \"company_name\": company_name_working_type,\n",
    "#                 \"company_url\": company_url,\n",
    "#                 \"positions\": [\n",
    "#                     {\n",
    "#                         \"title\": job_title,\n",
    "#                         \"duration\": duration,\n",
    "#                         \"location\": location,\n",
    "#                     }\n",
    "#                 ]\n",
    "#             }\n",
    "#             experiences.append(info_dict)\n",
    "#         except:\n",
    "#             continue\n",
    "#     return experiences"
   ]
  },
  {
   "cell_type": "code",
   "execution_count": 33,
   "metadata": {},
   "outputs": [],
   "source": [
    "# result = parse_experience(sections[3])"
   ]
  },
  {
   "cell_type": "code",
   "execution_count": 34,
   "metadata": {},
   "outputs": [
    {
     "data": {
      "text/plain": [
       "{'company_name': 'Spiraledge, Inc · Full-time',\n",
       " 'company_url': 'https://www.linkedin.com/company/3058673/',\n",
       " 'positions': [{'title': 'Data Analyst',\n",
       "   'duration': 'Feb 2022 - Present · 2 yrs 2 mos',\n",
       "   'location': 'Ho Chi Minh City, Vietnam'}]}"
      ]
     },
     "execution_count": 34,
     "metadata": {},
     "output_type": "execute_result"
    }
   ],
   "source": [
    "# result[0]"
   ]
  },
  {
   "cell_type": "code",
   "execution_count": 35,
   "metadata": {},
   "outputs": [
    {
     "data": {
      "text/plain": [
       "{'company_name': None,\n",
       " 'company_url': 'https://www.linkedin.com/company/6451760/',\n",
       " 'positions': [{'title': None, 'duration': None, 'location': None}]}"
      ]
     },
     "execution_count": 35,
     "metadata": {},
     "output_type": "execute_result"
    }
   ],
   "source": [
    "# result[1]"
   ]
  },
  {
   "cell_type": "code",
   "execution_count": 36,
   "metadata": {},
   "outputs": [
    {
     "data": {
      "text/plain": [
       "{'company_name': 'Zenyum · Full-time',\n",
       " 'company_url': 'https://www.linkedin.com/company/14419564/',\n",
       " 'positions': [{'title': 'Sales Operation Executive',\n",
       "   'duration': 'Feb 2021 - Apr 2021 · 3 mos',\n",
       "   'location': 'Ho Chi Minh City, Vietnam'}]}"
      ]
     },
     "execution_count": 36,
     "metadata": {},
     "output_type": "execute_result"
    }
   ],
   "source": [
    "# result[2]"
   ]
  },
  {
   "cell_type": "code",
   "execution_count": 37,
   "metadata": {},
   "outputs": [
    {
     "data": {
      "text/plain": [
       "{'company_name': 'University of Denver - Daniels College of Business · Part-time',\n",
       " 'company_url': 'https://www.linkedin.com/company/5715/',\n",
       " 'positions': [{'title': 'Graduate Assistant',\n",
       "   'duration': 'Sep 2018 - Jun 2020 · 1 yr 10 mos',\n",
       "   'location': 'Denver'}]}"
      ]
     },
     "execution_count": 37,
     "metadata": {},
     "output_type": "execute_result"
    }
   ],
   "source": [
    "# result[3]"
   ]
  }
 ],
 "metadata": {
  "kernelspec": {
   "display_name": "qode",
   "language": "python",
   "name": "python3"
  },
  "language_info": {
   "codemirror_mode": {
    "name": "ipython",
    "version": 3
   },
   "file_extension": ".py",
   "mimetype": "text/x-python",
   "name": "python",
   "nbconvert_exporter": "python",
   "pygments_lexer": "ipython3",
   "version": "3.9.18"
  }
 },
 "nbformat": 4,
 "nbformat_minor": 2
}
