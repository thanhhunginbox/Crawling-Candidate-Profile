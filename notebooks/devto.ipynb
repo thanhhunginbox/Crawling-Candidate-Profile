{
 "cells": [
  {
   "cell_type": "code",
   "execution_count": 1,
   "metadata": {},
   "outputs": [],
   "source": [
    "from selenium import webdriver\n",
    "from bs4 import BeautifulSoup\n",
    "from selenium.webdriver.common.by import By\n",
    "from selenium.webdriver.common.keys import Keys\n",
    "import requests\n",
    "import os"
   ]
  },
  {
   "cell_type": "code",
   "execution_count": 2,
   "metadata": {},
   "outputs": [],
   "source": [
    "url = \"https://dev.to/mamontesp\""
   ]
  },
  {
   "cell_type": "code",
   "execution_count": 3,
   "metadata": {},
   "outputs": [],
   "source": [
    "response = requests.get(url)\n",
    "html = response.content\n",
    "soup = BeautifulSoup(html, 'html.parser')"
   ]
  },
  {
   "cell_type": "code",
   "execution_count": 4,
   "metadata": {},
   "outputs": [],
   "source": [
    "header = soup.find('header', {\"class\": \"profile-header\"})"
   ]
  },
  {
   "cell_type": "code",
   "execution_count": 5,
   "metadata": {},
   "outputs": [],
   "source": [
    "header_detials = header.find('div', {\"class\": \"profile-header__details\"})"
   ]
  },
  {
   "cell_type": "code",
   "execution_count": 6,
   "metadata": {},
   "outputs": [
    {
     "data": {
      "text/plain": [
       "'Andrea Montes'"
      ]
     },
     "execution_count": 6,
     "metadata": {},
     "output_type": "execute_result"
    }
   ],
   "source": [
    "header_detials.find('h1').text.strip()"
   ]
  },
  {
   "cell_type": "code",
   "execution_count": 7,
   "metadata": {},
   "outputs": [
    {
     "data": {
      "text/plain": [
       "'I care about everything regards data. Data person. Love swim+cycl+trekking'"
      ]
     },
     "execution_count": 7,
     "metadata": {},
     "output_type": "execute_result"
    }
   ],
   "source": [
    "header_detials.find('p').text.strip()"
   ]
  },
  {
   "cell_type": "code",
   "execution_count": 8,
   "metadata": {},
   "outputs": [
    {
     "name": "stdout",
     "output_type": "stream",
     "text": [
      "Location\n",
      "Bogotá, Colombia , South America\n",
      "Joined\n",
      "Joined on Jan 30, 2023\n",
      "mailto:mamontesp@gmail.com\n",
      "https://github.com/mamontesp\n"
     ]
    }
   ],
   "source": [
    "header_meta = header.find('div', {\"class\": \"profile-header__meta\"})\n",
    "for e in header_meta.findChildren(recursive=False):\n",
    "    if e.name == \"span\":\n",
    "        print(e.find('title').text.strip())\n",
    "        print(e.find('span').text.strip())\n",
    "    elif e.name == \"a\":\n",
    "        print(e.get(\"href\"))"
   ]
  },
  {
   "cell_type": "code",
   "execution_count": 9,
   "metadata": {},
   "outputs": [
    {
     "name": "stdout",
     "output_type": "stream",
     "text": [
      "Education : Universidad Nacional de Colombia\n",
      "Pronouns : she/her\n",
      "Work : Data Engineer\n"
     ]
    }
   ],
   "source": [
    "header_bottom = header.find('div', {\"class\": \"profile-header__bottom\"})  \n",
    "for i in header_bottom.findChildren(recursive=False):\n",
    "    text = i.text.strip()\n",
    "    data = text.split(\"\\n\")\n",
    "    key = data[0]\n",
    "    value = data[-1]\n",
    "    print(key, \":\", value)"
   ]
  },
  {
   "cell_type": "code",
   "execution_count": 10,
   "metadata": {},
   "outputs": [],
   "source": [
    "user_info = soup.find('div', {\"class\": \"js-user-info\"})"
   ]
  },
  {
   "cell_type": "code",
   "execution_count": 11,
   "metadata": {},
   "outputs": [
    {
     "name": "stdout",
     "output_type": "stream",
     "text": [
      "Skills/Languages : Python, sql, dbt, bash, aws, open source tools to orchestrate data\n",
      "Currently learning : Python django + react + automotive electricity (I just liked it)\n",
      "Currently hacking on : ML for small data size + dbt + MPP\n",
      "Available for : Dbt projects\n"
     ]
    }
   ],
   "source": [
    "for i in user_info.findChildren(recursive=False)[1:-1]:\n",
    "    text = i.text.strip()\n",
    "    data = text.split(\"\\n\")\n",
    "    key = data[0]\n",
    "    value = data[-1]\n",
    "    print(key, \":\", value)"
   ]
  },
  {
   "cell_type": "code",
   "execution_count": null,
   "metadata": {},
   "outputs": [],
   "source": []
  }
 ],
 "metadata": {
  "kernelspec": {
   "display_name": "qode",
   "language": "python",
   "name": "python3"
  },
  "language_info": {
   "codemirror_mode": {
    "name": "ipython",
    "version": 3
   },
   "file_extension": ".py",
   "mimetype": "text/x-python",
   "name": "python",
   "nbconvert_exporter": "python",
   "pygments_lexer": "ipython3",
   "version": "3.9.18"
  }
 },
 "nbformat": 4,
 "nbformat_minor": 2
}
