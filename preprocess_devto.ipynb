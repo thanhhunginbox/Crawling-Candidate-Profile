{
 "cells": [
  {
   "cell_type": "code",
   "execution_count": 10,
   "metadata": {},
   "outputs": [],
   "source": [
    "import pandas as pd"
   ]
  },
  {
   "cell_type": "code",
   "execution_count": 11,
   "metadata": {},
   "outputs": [],
   "source": [
    "df = pd.read_parquet('data/profiles/devto')"
   ]
  },
  {
   "cell_type": "code",
   "execution_count": 12,
   "metadata": {},
   "outputs": [],
   "source": [
    "def preprocess_meta_details(details: dict):\n",
    "    details_data = details['details']\n",
    "    data = {}\n",
    "\n",
    "    features = ['Education', 'Location', 'Joined', 'Pronouns', 'Work']\n",
    "    \n",
    "    for f in features:\n",
    "        if f in details_data:\n",
    "            data[f.lower().replace(' ', '_')] = details_data[f]\n",
    "\n",
    "    if data['joined'] != None:\n",
    "        data['joined'] = data['joined'].replace('Joined on\\xa0', '')\n",
    "\n",
    "    urls = list(details['urls'])\n",
    "    mail_idx = -1\n",
    "    for i in range(len(urls)):\n",
    "        if 'mailto:' in urls[i]:\n",
    "            mail_idx = i\n",
    "\n",
    "    if mail_idx != -1:\n",
    "        data['email'] = urls[mail_idx].replace('mailto:', '')\n",
    "        del urls[mail_idx]\n",
    "    else:\n",
    "        data['email'] = None\n",
    "\n",
    "    data['websites'] = urls\n",
    "\n",
    "    return data"
   ]
  },
  {
   "cell_type": "code",
   "execution_count": 13,
   "metadata": {},
   "outputs": [],
   "source": [
    "def preprocess_qualifications(qualifications):\n",
    "    features = ['Available for', 'Currently hacking on', 'Skills/Languages']\n",
    "    skills = []\n",
    "    for f in features:\n",
    "        if f in qualifications:\n",
    "            if qualifications[f] != None:\n",
    "                data = [k.strip() for k in qualifications[f].split(\",\")]\n",
    "                skills += data\n",
    "    return {\"skills\": skills}"
   ]
  },
  {
   "cell_type": "code",
   "execution_count": 14,
   "metadata": {},
   "outputs": [],
   "source": [
    "def preprocess(x):\n",
    "    data = {}\n",
    "    data['user_name'] = x['user_name']\n",
    "    data['headline'] = x['headline']\n",
    "    data.update(preprocess_meta_details(x['meta_details']))\n",
    "    data.update(preprocess_qualifications(x[\"qualifications\"]))\n",
    "    data['date_added'] = x['date_added']\n",
    "    return data    "
   ]
  },
  {
   "cell_type": "code",
   "execution_count": 15,
   "metadata": {},
   "outputs": [],
   "source": [
    "preprocessed_data = df.apply(lambda x: preprocess(x), axis=1).to_list()"
   ]
  },
  {
   "cell_type": "code",
   "execution_count": 16,
   "metadata": {},
   "outputs": [],
   "source": [
    "preprocessed_df = pd.DataFrame(preprocessed_data)"
   ]
  },
  {
   "cell_type": "code",
   "execution_count": 74,
   "metadata": {},
   "outputs": [],
   "source": [
    "# preprocessed_df.to_parquet('data/preprocessed_profiles/devto', partition_cols=['date_added'])"
   ]
  },
  {
   "cell_type": "code",
   "execution_count": 17,
   "metadata": {},
   "outputs": [
    {
     "data": {
      "text/html": [
       "<div>\n",
       "<style scoped>\n",
       "    .dataframe tbody tr th:only-of-type {\n",
       "        vertical-align: middle;\n",
       "    }\n",
       "\n",
       "    .dataframe tbody tr th {\n",
       "        vertical-align: top;\n",
       "    }\n",
       "\n",
       "    .dataframe thead th {\n",
       "        text-align: right;\n",
       "    }\n",
       "</style>\n",
       "<table border=\"1\" class=\"dataframe\">\n",
       "  <thead>\n",
       "    <tr style=\"text-align: right;\">\n",
       "      <th></th>\n",
       "      <th>user_name</th>\n",
       "      <th>headline</th>\n",
       "      <th>education</th>\n",
       "      <th>location</th>\n",
       "      <th>joined</th>\n",
       "      <th>pronouns</th>\n",
       "      <th>work</th>\n",
       "      <th>email</th>\n",
       "      <th>websites</th>\n",
       "      <th>skills</th>\n",
       "      <th>date_added</th>\n",
       "    </tr>\n",
       "  </thead>\n",
       "  <tbody>\n",
       "    <tr>\n",
       "      <th>0</th>\n",
       "      <td>Vikas Chitturi</td>\n",
       "      <td>I am passionate about developing efficient ope...</td>\n",
       "      <td>None</td>\n",
       "      <td>Hyderabad</td>\n",
       "      <td>Jan 17, 2019</td>\n",
       "      <td>None</td>\n",
       "      <td>Data Engineer at UnitedHealth Group</td>\n",
       "      <td>vikasch.1994@gmail.com</td>\n",
       "      <td>[https://github.com/absognety]</td>\n",
       "      <td>[Data science, Deep Learning, python, scala, J...</td>\n",
       "      <td>2024-03-10</td>\n",
       "    </tr>\n",
       "    <tr>\n",
       "      <th>1</th>\n",
       "      <td>Andrea Montes</td>\n",
       "      <td>I care about everything regards data. Data per...</td>\n",
       "      <td>Universidad Nacional de Colombia</td>\n",
       "      <td>Bogotá, Colombia , South America</td>\n",
       "      <td>Jan 30, 2023</td>\n",
       "      <td>she/her</td>\n",
       "      <td>Data Engineer</td>\n",
       "      <td>mamontesp@gmail.com</td>\n",
       "      <td>[https://github.com/mamontesp]</td>\n",
       "      <td>[Dbt projects, ML for small data size + dbt + ...</td>\n",
       "      <td>2024-03-10</td>\n",
       "    </tr>\n",
       "    <tr>\n",
       "      <th>2</th>\n",
       "      <td>Rick Delpo</td>\n",
       "      <td>Rick Delpo - retired Senior Data Engineer from...</td>\n",
       "      <td>Georgetown University</td>\n",
       "      <td>Connecticut, USA</td>\n",
       "      <td>Aug 1, 2020</td>\n",
       "      <td>None</td>\n",
       "      <td>Instructor at HowToLearnJava.com</td>\n",
       "      <td>rickdelpo@gmail.com</td>\n",
       "      <td>[https://javasqlweb.org, https://github.com/ri...</td>\n",
       "      <td>[Java, JDBC, SQL, JQuery, React, AWS Lambda]</td>\n",
       "      <td>2024-03-10</td>\n",
       "    </tr>\n",
       "  </tbody>\n",
       "</table>\n",
       "</div>"
      ],
      "text/plain": [
       "        user_name                                           headline  \\\n",
       "0  Vikas Chitturi  I am passionate about developing efficient ope...   \n",
       "1   Andrea Montes  I care about everything regards data. Data per...   \n",
       "2      Rick Delpo  Rick Delpo - retired Senior Data Engineer from...   \n",
       "\n",
       "                          education                          location  \\\n",
       "0                              None                         Hyderabad   \n",
       "1  Universidad Nacional de Colombia  Bogotá, Colombia , South America   \n",
       "2             Georgetown University                  Connecticut, USA   \n",
       "\n",
       "         joined pronouns                                 work  \\\n",
       "0  Jan 17, 2019     None  Data Engineer at UnitedHealth Group   \n",
       "1  Jan 30, 2023  she/her                        Data Engineer   \n",
       "2   Aug 1, 2020     None     Instructor at HowToLearnJava.com   \n",
       "\n",
       "                    email                                           websites  \\\n",
       "0  vikasch.1994@gmail.com                     [https://github.com/absognety]   \n",
       "1     mamontesp@gmail.com                     [https://github.com/mamontesp]   \n",
       "2     rickdelpo@gmail.com  [https://javasqlweb.org, https://github.com/ri...   \n",
       "\n",
       "                                              skills  date_added  \n",
       "0  [Data science, Deep Learning, python, scala, J...  2024-03-10  \n",
       "1  [Dbt projects, ML for small data size + dbt + ...  2024-03-10  \n",
       "2       [Java, JDBC, SQL, JQuery, React, AWS Lambda]  2024-03-10  "
      ]
     },
     "execution_count": 17,
     "metadata": {},
     "output_type": "execute_result"
    }
   ],
   "source": [
    "preprocessed_df.head(3)"
   ]
  },
  {
   "cell_type": "code",
   "execution_count": null,
   "metadata": {},
   "outputs": [],
   "source": []
  }
 ],
 "metadata": {
  "kernelspec": {
   "display_name": "qode",
   "language": "python",
   "name": "python3"
  },
  "language_info": {
   "codemirror_mode": {
    "name": "ipython",
    "version": 3
   },
   "file_extension": ".py",
   "mimetype": "text/x-python",
   "name": "python",
   "nbconvert_exporter": "python",
   "pygments_lexer": "ipython3",
   "version": "3.9.18"
  }
 },
 "nbformat": 4,
 "nbformat_minor": 2
}
