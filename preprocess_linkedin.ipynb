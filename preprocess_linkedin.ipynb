{
 "cells": [
  {
   "cell_type": "code",
   "execution_count": 1,
   "metadata": {},
   "outputs": [],
   "source": [
    "import pandas as pd"
   ]
  },
  {
   "cell_type": "code",
   "execution_count": 2,
   "metadata": {},
   "outputs": [],
   "source": [
    "df = pd.read_parquet('data/profiles/linkedin')"
   ]
  },
  {
   "cell_type": "code",
   "execution_count": 3,
   "metadata": {},
   "outputs": [
    {
     "data": {
      "text/html": [
       "<div>\n",
       "<style scoped>\n",
       "    .dataframe tbody tr th:only-of-type {\n",
       "        vertical-align: middle;\n",
       "    }\n",
       "\n",
       "    .dataframe tbody tr th {\n",
       "        vertical-align: top;\n",
       "    }\n",
       "\n",
       "    .dataframe thead th {\n",
       "        text-align: right;\n",
       "    }\n",
       "</style>\n",
       "<table border=\"1\" class=\"dataframe\">\n",
       "  <thead>\n",
       "    <tr style=\"text-align: right;\">\n",
       "      <th></th>\n",
       "      <th>user_name</th>\n",
       "      <th>work</th>\n",
       "      <th>headline</th>\n",
       "      <th>location</th>\n",
       "      <th>contact_info</th>\n",
       "      <th>skills</th>\n",
       "      <th>date_added</th>\n",
       "    </tr>\n",
       "  </thead>\n",
       "  <tbody>\n",
       "    <tr>\n",
       "      <th>0</th>\n",
       "      <td>Nguyễn Hoàng</td>\n",
       "      <td>--</td>\n",
       "      <td>Activity\\nActivity\\n210 followers\\n210 followe...</td>\n",
       "      <td>Vietnam</td>\n",
       "      <td>{'Arpit’s Profile': None, 'Birthday': None, 'H...</td>\n",
       "      <td>[, Cascading Style Sheets (CSS), Python, Resea...</td>\n",
       "      <td>2024-03-11</td>\n",
       "    </tr>\n",
       "    <tr>\n",
       "      <th>1</th>\n",
       "      <td>HT LM and python (Sherya singh) Devi</td>\n",
       "      <td>--</td>\n",
       "      <td>Highlights\\nHighlights\\n1 mutual group\\n1 mutu...</td>\n",
       "      <td>Hardoi, Uttar Pradesh, India</td>\n",
       "      <td>{'Arpit’s Profile': None, 'Birthday': None, 'H...</td>\n",
       "      <td>[, Business Management, Business Analysis, Aut...</td>\n",
       "      <td>2024-03-11</td>\n",
       "    </tr>\n",
       "    <tr>\n",
       "      <th>2</th>\n",
       "      <td>HT LM and python (Sherya singh) Devi</td>\n",
       "      <td>--</td>\n",
       "      <td>Highlights\\nHighlights\\n1 mutual group\\n1 mutu...</td>\n",
       "      <td>Hardoi, Uttar Pradesh, India</td>\n",
       "      <td>{'Arpit’s Profile': None, 'Birthday': None, 'H...</td>\n",
       "      <td>[, Business Management, Business Analysis, Aut...</td>\n",
       "      <td>2024-03-11</td>\n",
       "    </tr>\n",
       "    <tr>\n",
       "      <th>3</th>\n",
       "      <td>Raj Krishnan</td>\n",
       "      <td>Trainer and Freelancer in Web and Python Techn...</td>\n",
       "      <td>Activity\\nActivity\\n1,062 followers\\n1,062 fol...</td>\n",
       "      <td>Nashik, Maharashtra, India</td>\n",
       "      <td>{'Arpit’s Profile': None, 'Birthday': 'June 12...</td>\n",
       "      <td>[, Marketing, Project Management, Python, Pyth...</td>\n",
       "      <td>2024-03-11</td>\n",
       "    </tr>\n",
       "    <tr>\n",
       "      <th>4</th>\n",
       "      <td>Prabhat Lohani</td>\n",
       "      <td>Founder and Python &amp; Java Trainer</td>\n",
       "      <td>About\\nAbout\\nBest PYTHON ,JAVA ,DATA SCIENCE,...</td>\n",
       "      <td>Delhi, India</td>\n",
       "      <td>{'Arpit’s Profile': None, 'Birthday': None, 'H...</td>\n",
       "      <td>[, Training, Data Science, Informatics Practic...</td>\n",
       "      <td>2024-03-11</td>\n",
       "    </tr>\n",
       "  </tbody>\n",
       "</table>\n",
       "</div>"
      ],
      "text/plain": [
       "                              user_name  \\\n",
       "0                          Nguyễn Hoàng   \n",
       "1  HT LM and python (Sherya singh) Devi   \n",
       "2  HT LM and python (Sherya singh) Devi   \n",
       "3                          Raj Krishnan   \n",
       "4                        Prabhat Lohani   \n",
       "\n",
       "                                                work  \\\n",
       "0                                                 --   \n",
       "1                                                 --   \n",
       "2                                                 --   \n",
       "3  Trainer and Freelancer in Web and Python Techn...   \n",
       "4                  Founder and Python & Java Trainer   \n",
       "\n",
       "                                            headline  \\\n",
       "0  Activity\\nActivity\\n210 followers\\n210 followe...   \n",
       "1  Highlights\\nHighlights\\n1 mutual group\\n1 mutu...   \n",
       "2  Highlights\\nHighlights\\n1 mutual group\\n1 mutu...   \n",
       "3  Activity\\nActivity\\n1,062 followers\\n1,062 fol...   \n",
       "4  About\\nAbout\\nBest PYTHON ,JAVA ,DATA SCIENCE,...   \n",
       "\n",
       "                       location  \\\n",
       "0                       Vietnam   \n",
       "1  Hardoi, Uttar Pradesh, India   \n",
       "2  Hardoi, Uttar Pradesh, India   \n",
       "3    Nashik, Maharashtra, India   \n",
       "4                  Delhi, India   \n",
       "\n",
       "                                        contact_info  \\\n",
       "0  {'Arpit’s Profile': None, 'Birthday': None, 'H...   \n",
       "1  {'Arpit’s Profile': None, 'Birthday': None, 'H...   \n",
       "2  {'Arpit’s Profile': None, 'Birthday': None, 'H...   \n",
       "3  {'Arpit’s Profile': None, 'Birthday': 'June 12...   \n",
       "4  {'Arpit’s Profile': None, 'Birthday': None, 'H...   \n",
       "\n",
       "                                              skills  date_added  \n",
       "0  [, Cascading Style Sheets (CSS), Python, Resea...  2024-03-11  \n",
       "1  [, Business Management, Business Analysis, Aut...  2024-03-11  \n",
       "2  [, Business Management, Business Analysis, Aut...  2024-03-11  \n",
       "3  [, Marketing, Project Management, Python, Pyth...  2024-03-11  \n",
       "4  [, Training, Data Science, Informatics Practic...  2024-03-11  "
      ]
     },
     "execution_count": 3,
     "metadata": {},
     "output_type": "execute_result"
    }
   ],
   "source": [
    "df.head()"
   ]
  },
  {
   "cell_type": "code",
   "execution_count": 22,
   "metadata": {},
   "outputs": [],
   "source": [
    "def preprocess_headline(headline: str):\n",
    "    if headline.startswith('About'):\n",
    "        headline = headline.replace('About\\n', '')\n",
    "        return headline\n",
    "    return ''"
   ]
  },
  {
   "cell_type": "code",
   "execution_count": 13,
   "metadata": {},
   "outputs": [],
   "source": [
    "def preprocess_skills(skills):\n",
    "    new_skills = [i for i in skills if i != '']\n",
    "    return new_skills"
   ]
  },
  {
   "cell_type": "code",
   "execution_count": 23,
   "metadata": {},
   "outputs": [],
   "source": [
    "def preprocess(x):\n",
    "    data = {}\n",
    "    data['user_name'] = x['user_name']\n",
    "    data['work'] = x['work'].replace('--', '')\n",
    "    data['headline'] = preprocess_headline(x['headline'])\n",
    "    data['location'] = x['location']\n",
    "    data['skills'] = preprocess_skills(x['skills'])\n",
    "    return data"
   ]
  },
  {
   "cell_type": "code",
   "execution_count": 24,
   "metadata": {},
   "outputs": [],
   "source": [
    "preprocessed_data = df.apply(lambda x: preprocess(x), axis=1).to_list()"
   ]
  },
  {
   "cell_type": "code",
   "execution_count": 25,
   "metadata": {},
   "outputs": [],
   "source": [
    "preprocessed_df = pd.DataFrame(preprocessed_data)"
   ]
  },
  {
   "cell_type": "code",
   "execution_count": 31,
   "metadata": {},
   "outputs": [],
   "source": [
    "preprocessed_df.tail().to_clipboard()"
   ]
  },
  {
   "cell_type": "code",
   "execution_count": null,
   "metadata": {},
   "outputs": [],
   "source": []
  }
 ],
 "metadata": {
  "kernelspec": {
   "display_name": "qode",
   "language": "python",
   "name": "python3"
  },
  "language_info": {
   "codemirror_mode": {
    "name": "ipython",
    "version": 3
   },
   "file_extension": ".py",
   "mimetype": "text/x-python",
   "name": "python",
   "nbconvert_exporter": "python",
   "pygments_lexer": "ipython3",
   "version": "3.9.18"
  }
 },
 "nbformat": 4,
 "nbformat_minor": 2
}
